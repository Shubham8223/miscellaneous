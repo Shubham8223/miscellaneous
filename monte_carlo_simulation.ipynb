{
  "cells": [
    {
      "cell_type": "code",
      "source": [
        "\n",
        "import random\n",
        "\n",
        "INTERVAL = 1000\n",
        "\n",
        "circle_points = 0\n",
        "square_points = 0\n",
        "\n",
        "# Total Random numbers generated= possible x\n",
        "# values* possible y values\n",
        "for i in range(INTERVAL**2):\n",
        "\n",
        "    # Randomly generated x and y values from a\n",
        "    # uniform distribution\n",
        "    # Range of x and y values is -1 to 1\n",
        "    rand_x = random.uniform(-1, 1)\n",
        "    rand_y = random.uniform(-1, 1)\n",
        "\n",
        "    # Distance between (x, y) from the origin\n",
        "    origin_dist = rand_x**2 + rand_y**2\n",
        "\n",
        "    # Checking if (x, y) lies inside the circle\n",
        "    if origin_dist <= 1:\n",
        "        circle_points += 1\n",
        "\n",
        "    square_points += 1\n",
        "\n",
        "    # Estimating value of pi,\n",
        "    # pi= 4*(no. of points generated inside the\n",
        "    # circle)/ (no. of points generated inside the square)\n",
        "    pi = 4 * circle_points / square_points\n",
        "\n",
        "##    print(rand_x, rand_y, circle_points, square_points, \"-\", pi)\n",
        "# print(\"\\n\")\n",
        "\n",
        "print(\"Final Estimation of Pi=\", pi)"
      ],
      "metadata": {
        "id": "Usy0cXeMLRV_",
        "outputId": "225844b9-6a8d-4571-8395-742a61e7e9a0",
        "colab": {
          "base_uri": "https://localhost:8080/"
        }
      },
      "execution_count": 17,
      "outputs": [
        {
          "output_type": "stream",
          "name": "stdout",
          "text": [
            "Final Estimation of Pi= 3.141872\n"
          ]
        }
      ]
    }
  ],
  "metadata": {
    "colab": {
      "name": "Welcome To Colaboratory",
      "provenance": [],
      "gpuType": "T4"
    },
    "kernelspec": {
      "display_name": "Python 3",
      "name": "python3"
    },
    "accelerator": "GPU"
  },
  "nbformat": 4,
  "nbformat_minor": 0
}